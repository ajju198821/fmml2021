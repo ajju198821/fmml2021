{
  "nbformat": 4,
  "nbformat_minor": 0,
  "metadata": {
    "colab": {
      "name": "07_Defining_Functions.ipynb",
      "provenance": [],
      "include_colab_link": true
    },
    "kernelspec": {
      "name": "python3",
      "display_name": "Python 3"
    },
    "language_info": {
      "name": "python"
    }
  },
  "cells": [
    {
      "cell_type": "markdown",
      "metadata": {
        "id": "view-in-github",
        "colab_type": "text"
      },
      "source": [
        "<a href=\"https://colab.research.google.com/github/ajju198821/fmml2021/blob/main/07_Defining_Functions.ipynb\" target=\"_parent\"><img src=\"https://colab.research.google.com/assets/colab-badge.svg\" alt=\"Open In Colab\"/></a>"
      ]
    },
    {
      "cell_type": "code",
      "metadata": {
        "id": "1pqsgNqwnbHE"
      },
      "source": [
        "def inList (my_char, my_list=['a','e','i','o','u']):\n",
        "  \"\"\" this is a function to check whether a char is vowel or not \"\"\"\n",
        "  for each_char in my_list:\n",
        "    if each_char == my_char.lower():\n",
        "      return True\n",
        "  return False"
      ],
      "execution_count": 1,
      "outputs": []
    },
    {
      "cell_type": "code",
      "metadata": {
        "id": "SLpNGCWYn6Er",
        "outputId": "533e3733-1a79-432b-e5bb-046a982e53c1",
        "colab": {
          "base_uri": "https://localhost:8080/"
        }
      },
      "source": [
        "inList('Z', ['x', 'y', 'z'])"
      ],
      "execution_count": 2,
      "outputs": [
        {
          "output_type": "execute_result",
          "data": {
            "text/plain": [
              "True"
            ]
          },
          "metadata": {},
          "execution_count": 2
        }
      ]
    },
    {
      "cell_type": "code",
      "metadata": {
        "id": "BG7rDqOOQvO-"
      },
      "source": [
        "from math import sqrt"
      ],
      "execution_count": 14,
      "outputs": []
    },
    {
      "cell_type": "code",
      "metadata": {
        "id": "r_KUNOW3rCc6"
      },
      "source": [
        "# Write a function to check whether a given number belongs to fibonacci series or not\n",
        "# fibonacci series is 0,1,1,2,3,5,8,13,21,34,......\n",
        "# logic: 1) (5 * n * n - 4) or 2) (5  * n * n + 4) or both 1) and 2) perffect squares, then n is fibonacci number.\n",
        "\n",
        "def isPerSqr(i):\n",
        "  s = int(sqrt(i))\n",
        "  return (s*s == i)\n",
        "\n",
        "def isFib(n):\n",
        "  l = isPerSqr(5 * n * n - 4)\n",
        "  m = isPerSqr(5 * n * n + 4)\n",
        "  if l or m:\n",
        "    print('Given number is Fibonacci number')\n",
        "  else:\n",
        "    print('Given number is not Fibonacci number')\n",
        "\n",
        "\n"
      ],
      "execution_count": 15,
      "outputs": []
    },
    {
      "cell_type": "code",
      "metadata": {
        "id": "pQn1O3uZQGBE",
        "outputId": "c2294286-fe2f-4409-f85d-a76d057da309",
        "colab": {
          "base_uri": "https://localhost:8080/"
        }
      },
      "source": [
        "num = int(input(\"Enter the number::\"))\n",
        "isFib(num)"
      ],
      "execution_count": 19,
      "outputs": [
        {
          "output_type": "stream",
          "name": "stdout",
          "text": [
            "Enter the number::13\n",
            "Given number is Fibonacci number\n"
          ]
        }
      ]
    },
    {
      "cell_type": "markdown",
      "metadata": {
        "id": "3hfExC9BPkKK"
      },
      "source": [
        "Reference: [Python Documentation on Functions](https://docs.python.org/3/tutorial/controlflow.html#defining-functions)"
      ]
    }
  ]
}